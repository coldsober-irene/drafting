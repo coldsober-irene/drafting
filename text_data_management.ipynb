{
  "nbformat": 4,
  "nbformat_minor": 0,
  "metadata": {
    "colab": {
      "provenance": [],
      "authorship_tag": "ABX9TyOa4k2OcYMuZqg028mQ0uf3",
      "include_colab_link": true
    },
    "kernelspec": {
      "name": "python3",
      "display_name": "Python 3"
    },
    "language_info": {
      "name": "python"
    }
  },
  "cells": [
    {
      "cell_type": "markdown",
      "metadata": {
        "id": "view-in-github",
        "colab_type": "text"
      },
      "source": [
        "<a href=\"https://colab.research.google.com/github/coldsober-irene/drafting/blob/main/text_data_management.ipynb\" target=\"_parent\"><img src=\"https://colab.research.google.com/assets/colab-badge.svg\" alt=\"Open In Colab\"/></a>"
      ]
    },
    {
      "cell_type": "code",
      "source": [
        "import os\n",
        "import requests\n",
        "from bs4 import BeautifulSoup as bs"
      ],
      "metadata": {
        "id": "HMMLsczAlxqh"
      },
      "execution_count": null,
      "outputs": []
    },
    {
      "cell_type": "code",
      "execution_count": null,
      "metadata": {
        "id": "csUYsWNUlv3O"
      },
      "outputs": [],
      "source": [
        "domains = {'coding':{'filenames': [f'coding{i}' for i in range(3)],\n",
        "                     'links':['https://www.w3schools.com/python/python_file_open.asp',\n",
        "                              'https://www.geeksforgeeks.org/how-to-read-from-a-file-in-python/',\n",
        "                              'https://www.freecodecamp.org/news/how-to-read-files-in-python/',\n",
        "                              'https://www.datacamp.com/tutorial/machine-learning-models-api-python?utm_source=google&utm_medium=paid_search&utm_campaignid=19589720821&utm_adgroupid=143216588577&utm_device=c&utm_keyword=&utm_matchtype=&utm_network=g&utm_adpostion=&utm_creative=676354849139&utm_targetid=aud-517318242147:dsa-1947282172981&utm_loc_interest_ms=&utm_loc_physical_ms=9062504&utm_content=dsa~page~community-tuto&utm_campaign=230119_1-sea~dsa~tofu_2-b2c_3-row-p1_4-prc_5-na_6-na_7-le_8-pdsh-go_9-na_10-na_11-na-oct23&gclid=CjwKCAjw1t2pBhAFEiwA_-A-NCrwD_JE7IfIe0vukyknySEppMcCxu9dHlgcPCHz9VurOaBPoZ3M5BoCSi0QAvD_BwE']},\n",
        "           'manufacturing':{'filenames':[f'manufacturing{i}' for i in range(2)],\n",
        "                            'links':['https://www.homemade-circuits.com/dc-motor-speed-controller-circuits/',\n",
        "                            'https://www.iqsdirectory.com/articles/manufacturing/mechanical-components.html']},\n",
        "           'health':{'filenames':[f'health{i}' for i in range(2)],\n",
        "                           'links':['https://jamanetwork.com/journals/jama-health-forum/fullarticle/2810779',\n",
        "                                    'https://www.healthxchange.sg/food-nutrition/food-tips/drinking-water-right-time']}}\n",
        "#DOMAIN EX: CODING , MANUFACT, HEALTH\n",
        "for domain in list(domains.keys()):\n",
        "  # ALL LINKS IN EACH DOMAIN\n",
        "  links = domains[domain]['links']\n",
        "  # CREATE EACH DOMAIN FOLDER\n",
        "  if not os.path.isdir(domain):\n",
        "      os.mkdir(domain)\n",
        "      # CREATE ALL THE FILES IN EACH DOMAIN\n",
        "      for index, filename in enumerate(domains[domain]['filenames']):\n",
        "          with open(f'{domain}//{filename}.txt', 'w+') as f:\n",
        "              # VISIT URL\n",
        "              page = requests.get(links[index])\n",
        "              contents = bs(page.content, 'html.parser')\n",
        "              paragraphs = contents.find_all('p')\n",
        "              # READ CONTENT FROM EACH VISITED URL AND WRITE THEM TO A FILE CREATED\n",
        "              for paragraph in paragraphs:\n",
        "                f.writelines(paragraph.text)\n",
        "                print(\"[TEXT WRITEN]\")\n",
        "\n",
        ""
      ]
    }
  ]
}