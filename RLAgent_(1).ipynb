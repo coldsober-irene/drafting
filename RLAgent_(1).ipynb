{
  "cells": [
    {
      "cell_type": "markdown",
      "metadata": {
        "id": "view-in-github",
        "colab_type": "text"
      },
      "source": [
        "<a href=\"https://colab.research.google.com/github/coldsober-irene/drafting/blob/main/RLAgent_(1).ipynb\" target=\"_parent\"><img src=\"https://colab.research.google.com/assets/colab-badge.svg\" alt=\"Open In Colab\"/></a>"
      ]
    },
    {
      "cell_type": "code",
      "execution_count": 11,
      "metadata": {
        "id": "ehHMJ829mzJc"
      },
      "outputs": [],
      "source": [
        "from typing import List, Tuple\n",
        "import copy\n",
        "import numpy as np\n",
        "import matplotlib.pyplot as plt\n",
        "%matplotlib inline"
      ]
    },
    {
      "cell_type": "markdown",
      "metadata": {
        "id": "UHqph9kA6wH7"
      },
      "source": [
        "The following class defines the grid world environment. The grid world looks like:\n",
        "\n",
        "```\n",
        "____________________________________________________________\n",
        "|___|_0_|_1_|_2_|_3_|_4_|_5_|_6_|_7_|_8_|_9_|_10|_11|_12|_13|\n",
        "|_0_|___|___|___|___|___|___|_x_|_x_|___|___|___|___|___|___|\n",
        "|_1_|___|___|___|___|___|___|_x_|_x_|___|___|___|___|___|___|\n",
        "|_2_|___|___|___|_x_|___|___|_x_|_x_|___|___|___|___|_x_|___|\n",
        "|_3_|___|___|___|_x_|___|___|_x_|___|___|___|___|_x_|_x_|___|\n",
        "|_4_|___|_B_|___|_x_|___|___|___|___|___|___|___|_x_|_x_|_G_|\n",
        "|_5_|_A_|___|___|_x_|___|___|___|___|___|___|___|_x_|_x_|___|\n",
        "```\n",
        "\n"
      ]
    },
    {
      "cell_type": "code",
      "execution_count": 12,
      "metadata": {
        "id": "-RMDF0A3oKfX"
      },
      "outputs": [],
      "source": [
        "AGENT = 'A'\n",
        "BOX = 'B'\n",
        "GOAL = 'G'\n",
        "DANGER = 'x'\n",
        "GRID = '_'\n",
        "\n",
        "\n",
        "class CliffBoxGridWorld:\n",
        "    \"\"\"\n",
        "    Cliff Box Pushing Grid World.\n",
        "    \"\"\"\n",
        "    action_space = [1, 2, 3, 4]\n",
        "    forces = {\n",
        "        1: np.array([-1, 0]),\n",
        "        2: np.array([1,  0]),\n",
        "        3: np.array([0, -1]),\n",
        "        4: np.array([0,  1]),\n",
        "    }\n",
        "    world_width = 14\n",
        "    world_height = 6\n",
        "    goal_pos = np.array([4, 13])\n",
        "    init_agent_pos = np.array([5, 0])\n",
        "    init_box_pos = np.array([4, 1])\n",
        "    danger_region = [\n",
        "        [(2, 3), (5, 3)],\n",
        "        [(0, 6), (3, 6)],\n",
        "        [(0, 7), (2, 7)],\n",
        "        [(3, 11), (5, 11)],\n",
        "        [(2, 12), (5, 12)],\n",
        "    ]\n",
        "\n",
        "    def __init__(self,\n",
        "                 episode_length=100,\n",
        "                 render=False,\n",
        "                 ):\n",
        "        \"\"\"\n",
        "        The grid world looks like:\n",
        "        ____________________________________________________________\n",
        "        |___|_0_|_1_|_2_|_3_|_4_|_5_|_6_|_7_|_8_|_9_|_10|_11|_12|_13|\n",
        "        |_0_|___|___|___|___|___|___|_x_|_x_|___|___|___|___|___|___|\n",
        "        |_1_|___|___|___|___|___|___|_x_|_x_|___|___|___|___|___|___|\n",
        "        |_2_|___|___|___|_x_|___|___|_x_|_x_|___|___|___|___|_x_|___|\n",
        "        |_3_|___|___|___|_x_|___|___|_x_|___|___|___|___|_x_|_x_|___|\n",
        "        |_4_|___|_B_|___|_x_|___|___|___|___|___|___|___|_x_|_x_|_G_|\n",
        "        |_5_|_A_|___|___|_x_|___|___|___|___|___|___|___|_x_|_x_|___|\n",
        "        \"\"\"\n",
        "        # Environment configurations.\n",
        "        self.episode_length = episode_length\n",
        "        self.render = render\n",
        "        self.agent_pos = self.init_agent_pos\n",
        "        self.box_pos = self.init_box_pos\n",
        "\n",
        "        # Visualization.\n",
        "        if self.render:\n",
        "            self.world = np.chararray((self.world_height, self.world_width))\n",
        "            self.last_agent_pos = copy.deepcopy(self.agent_pos)\n",
        "            self.last_box_pos = copy.deepcopy(self.box_pos)\n",
        "            self.world[:] = GRID\n",
        "            for region in self.danger_region:\n",
        "                A, B = region\n",
        "                assert A[1] == B[1], \"A[1] != B[1]\"\n",
        "                self.world[A[0]:B[0]+1, A[1]] = DANGER\n",
        "            self.world[self.agent_pos[0], self.agent_pos[1]] = AGENT\n",
        "            self.world[self.box_pos[0], self.box_pos[1]] = BOX\n",
        "            self.world[self.goal_pos[0], self.goal_pos[1]] = GOAL\n",
        "\n",
        "    def reset(self):\n",
        "        \"\"\"\n",
        "        Resets the environment.\n",
        "\n",
        "        Returns:\n",
        "            The initial state (agent position and box position).\n",
        "        \"\"\"\n",
        "        self.timesteps = 0\n",
        "        self.action_history = []\n",
        "        self.agent_pos = self.init_agent_pos\n",
        "        self.box_pos = self.init_box_pos\n",
        "\n",
        "        return tuple([*self.agent_pos.tolist(), *self.box_pos.tolist()])\n",
        "\n",
        "    def step(self, actions: int):\n",
        "        \"\"\"\n",
        "        Args: actions (a list of int).\n",
        "\n",
        "        Returns:\n",
        "            The next state, reward, done, info.\n",
        "        \"\"\"\n",
        "        self.action_history.append(actions)\n",
        "\n",
        "        # Update the state.\n",
        "        force = self.forces[actions]\n",
        "        # check if the agent is near the box\n",
        "        if np.sum(np.abs(self.agent_pos - self.box_pos)) == 1:\n",
        "            # check if box is moved\n",
        "            if all(self.agent_pos + force == self.box_pos):\n",
        "                # check out of boundary\n",
        "                self.box_pos = self._check_pos_boundary(pos=self.box_pos + force, box_hard_boundary=True)\n",
        "        # move the agent\n",
        "        new_agent_pos = self._check_pos_boundary(self.agent_pos + force)\n",
        "        if not all(new_agent_pos == self.box_pos):\n",
        "            self.agent_pos = new_agent_pos\n",
        "        state = tuple([*self.agent_pos.tolist(), *self.box_pos.tolist()])\n",
        "\n",
        "        # Calculate the rewards\n",
        "        done = self.timesteps == self.episode_length - 1\n",
        "        # the distance between agents and box\n",
        "        dist = np.sum(np.abs(self.agent_pos - self.box_pos))\n",
        "        reward = -1  # -1 for each step\n",
        "        reward -= dist\n",
        "        # if agents or box is off the cliff\n",
        "        if self._check_off_cliff(self.agent_pos) or self._check_off_cliff(self.box_pos):\n",
        "            reward += -1000\n",
        "            done = True\n",
        "\n",
        "        if all(self.box_pos == self.goal_pos):\n",
        "            reward += 1000\n",
        "            done = True\n",
        "\n",
        "        reward -= np.sum(np.abs(self.box_pos - self.goal_pos))\n",
        "\n",
        "        if self.render:\n",
        "            self._update_render()\n",
        "\n",
        "        self.timesteps += 1\n",
        "        info = {}\n",
        "\n",
        "        return state, reward, done, info\n",
        "\n",
        "    def print_world(self):\n",
        "        \"\"\"\n",
        "        Render the world in the command line.\n",
        "        \"\"\"\n",
        "        if len(self.action_history) > 0:\n",
        "            print(f'Action: {self.action_history[-1]}')\n",
        "        print(self.world)\n",
        "\n",
        "    def _check_pos_boundary(self, pos, box_hard_boundary: bool = False):\n",
        "        \"\"\"\n",
        "        Move the given position within the world bound.\n",
        "        \"\"\"\n",
        "        if pos[0] < 0:\n",
        "            pos[0] = 0\n",
        "        if pos[0] >= self.world_height:\n",
        "            pos[0] = self.world_height - 1\n",
        "        if pos[1] < 0:\n",
        "            pos[1] = 0\n",
        "        if pos[1] >= self.world_width:\n",
        "            pos[1] = self.world_width - 1\n",
        "\n",
        "        if box_hard_boundary:\n",
        "            if pos[0] == 0:\n",
        "                pos[0] += 1\n",
        "            elif pos[0] == self.world_height - 1:\n",
        "                pos[0] = self.world_height - 2\n",
        "            if pos[1] == 0:\n",
        "                pos[1] += 1\n",
        "\n",
        "        return pos\n",
        "\n",
        "    def _check_off_cliff(self, pos):\n",
        "        \"\"\"\n",
        "        Check if the given position is off cliff.\n",
        "        \"\"\"\n",
        "        for region in self.danger_region:\n",
        "            A, B = region\n",
        "            assert A[1] == B[1], \"A[1] != B[1]\"\n",
        "            if A[0] <= pos[0] <= B[0] and pos[1] == A[1]:\n",
        "                return True\n",
        "        return False\n",
        "\n",
        "    def _update_render(self):\n",
        "        \"\"\"\n",
        "        Update the render information.\n",
        "        \"\"\"\n",
        "        if not all(self.last_agent_pos == self.agent_pos):\n",
        "                pos = self.last_agent_pos\n",
        "                if (pos[0] != self.goal_pos[0]) or (pos[1] != self.goal_pos[1]):\n",
        "                    self.world[pos[0], pos[1]] = GRID\n",
        "\n",
        "        if not all(self.last_box_pos == self.box_pos):\n",
        "            pos = self.last_box_pos\n",
        "            if self.world[pos[0], pos[1]].decode('UTF-8') not in {AGENT}:\n",
        "                self.world[pos[0], pos[1]] = GRID\n",
        "\n",
        "        if (self.agent_pos[0] != self.goal_pos[0]) or (self.agent_pos[1] != self.goal_pos[1]):\n",
        "            self.world[self.agent_pos[0], self.agent_pos[1]] = AGENT\n",
        "        self.world[self.box_pos[0], self.box_pos[1]] = BOX\n",
        "        self.last_box_pos = copy.deepcopy(self.box_pos)\n",
        "        self.last_agent_pos = copy.deepcopy(self.agent_pos)"
      ]
    },
    {
      "cell_type": "markdown",
      "metadata": {
        "id": "GKUvcFzIY4IX"
      },
      "source": [
        "You need to complete the learn() method of the following class to implement your RL algorithm.\n"
      ]
    },
    {
      "cell_type": "code",
      "execution_count": 13,
      "metadata": {
        "id": "vAKVvHmOptDW"
      },
      "outputs": [],
      "source": [
        "class RLAgent:\n",
        "    def __init__(self, env, num_episodes, epsilon=0.1, alpha=0.1, gamma=0.99):\n",
        "        self.action_space = env.action_space\n",
        "        # Loop through all possible grid spaces, create sub-dictionary for each\n",
        "        self.q_table = {(agent_x, agent_y, box_x, box_y) : {k: 0 for k in self.action_space}\n",
        "                        for agent_x in range(env.world_height)\n",
        "                        for agent_y in range(env.world_width)\n",
        "                        for box_x in range(env.world_height)\n",
        "                        for box_y in range(env.world_width)\n",
        "                        }\n",
        "\n",
        "        self.env = env\n",
        "        self.num_episodes = num_episodes\n",
        "        self.epsilon = epsilon\n",
        "        self.alpha = alpha\n",
        "        self.gamma = gamma\n",
        "\n",
        "    def act(self, state):\n",
        "        \"\"\"Returns the (epsilon-greedy) optimal action from Q-Value table.\"\"\"\n",
        "        if np.random.uniform(0,1) < self.epsilon:\n",
        "            action = self.action_space[np.random.randint(0, len(self.action_space))]\n",
        "        else:\n",
        "            q_values_of_state = self.q_table[state]\n",
        "            maxValue = max(q_values_of_state.values())\n",
        "            action = np.random.choice([k for k, v in q_values_of_state.items() if v == maxValue])\n",
        "\n",
        "        return action\n",
        "\n",
        "    def learn(self):\n",
        "        \"\"\"Updates Q-values iteratively.\"\"\"\n",
        "        rewards = []\n",
        "\n",
        "        def savedQvalue(state, action):\n",
        "          return self.q_table.setdefault(state, {}).setdefault(action, 0)\n",
        "\n",
        "        for _ in range(self.num_episodes):\n",
        "            cumulative_reward = 0 # Initialise values of each game\n",
        "            state = self.env.reset()\n",
        "            done = False\n",
        "\n",
        "            while not done:\n",
        "              action = self.act(state)\n",
        "              next_state, reward, done, _ = self.env.step(action)\n",
        "              saved_Q_value = savedQvalue(state, action)\n",
        "              TargetQvalue = max([savedQvalue(next_state, done_action) for done_action in self.action_space])\n",
        "\n",
        "              # UPDATE Q_VALUES\n",
        "              self.q_table[state][action] = saved_Q_value + self.alpha * (reward + self.gamma * TargetQvalue - saved_Q_value)\n",
        "\n",
        "              # UPDATE CUMULATIVE REWARDS\n",
        "              cumulative_reward += reward\n",
        "\n",
        "            rewards.append(cumulative_reward)\n",
        "\n",
        "        return rewards"
      ]
    },
    {
      "cell_type": "markdown",
      "metadata": {
        "id": "T4Zp2jCTZEgw"
      },
      "source": [
        "Here is the game interface where you can manually move the agent."
      ]
    },
    {
      "cell_type": "code",
      "execution_count": 14,
      "metadata": {
        "colab": {
          "base_uri": "https://localhost:8080/"
        },
        "id": "OK-cjWJA7ymv",
        "outputId": "0d6023dc-21ba-4f53-ba0a-a721a26ad1ae"
      },
      "outputs": [
        {
          "output_type": "stream",
          "name": "stdout",
          "text": [
            "[[b'_' b'_' b'_' b'_' b'_' b'_' b'x' b'x' b'_' b'_' b'_' b'_' b'_' b'_']\n",
            " [b'_' b'_' b'_' b'_' b'_' b'_' b'x' b'x' b'_' b'_' b'_' b'_' b'_' b'_']\n",
            " [b'_' b'_' b'_' b'x' b'_' b'_' b'x' b'x' b'_' b'_' b'_' b'_' b'x' b'_']\n",
            " [b'_' b'_' b'_' b'x' b'_' b'_' b'x' b'_' b'_' b'_' b'_' b'x' b'x' b'_']\n",
            " [b'_' b'B' b'_' b'x' b'_' b'_' b'_' b'_' b'_' b'_' b'_' b'x' b'x' b'G']\n",
            " [b'A' b'_' b'_' b'x' b'_' b'_' b'_' b'_' b'_' b'_' b'_' b'x' b'x' b'_']]\n",
            "Please input the actions \n",
            "up: 1, \n",
            "down: 2, \n",
            "left: 3, \n",
            "right: 4 \n",
            "Exit Game: 0 \n",
            ": 1\n",
            "step: 1, state: (4, 0, 4, 1), actions: 1, reward: -14\n",
            "Action: 1\n",
            "[[b'_' b'_' b'_' b'_' b'_' b'_' b'x' b'x' b'_' b'_' b'_' b'_' b'_' b'_']\n",
            " [b'_' b'_' b'_' b'_' b'_' b'_' b'x' b'x' b'_' b'_' b'_' b'_' b'_' b'_']\n",
            " [b'_' b'_' b'_' b'x' b'_' b'_' b'x' b'x' b'_' b'_' b'_' b'_' b'x' b'_']\n",
            " [b'_' b'_' b'_' b'x' b'_' b'_' b'x' b'_' b'_' b'_' b'_' b'x' b'x' b'_']\n",
            " [b'A' b'B' b'_' b'x' b'_' b'_' b'_' b'_' b'_' b'_' b'_' b'x' b'x' b'G']\n",
            " [b'_' b'_' b'_' b'x' b'_' b'_' b'_' b'_' b'_' b'_' b'_' b'x' b'x' b'_']]\n",
            "Please input the actions \n",
            "up: 1, \n",
            "down: 2, \n",
            "left: 3, \n",
            "right: 4 \n",
            "Exit Game: 0 \n",
            ": 0\n",
            "rewards: -14\n",
            "action history: [1]\n"
          ]
        }
      ],
      "source": [
        "env = CliffBoxGridWorld(render=True)\n",
        "env.reset()\n",
        "env.print_world()\n",
        "done = False\n",
        "rewards = []\n",
        "\n",
        "while not done:\n",
        "  try:\n",
        "    action = int(input(\"Please input the actions \\nup: 1, \\ndown: 2, \\nleft: 3, \\nright: 4 \\nExit Game: 0 \\n: \"))\n",
        "    if not action:\n",
        "      break\n",
        "    state, reward, done, info = env.step(action)\n",
        "    rewards.append(reward)\n",
        "    print(f'step: {env.timesteps}, state: {state}, actions: {action}, reward: {reward}')\n",
        "    env.print_world()\n",
        "  except Exception:\n",
        "    print()\n",
        "    print('Invalid action', '\\n', '_'*100)\n",
        "\n",
        "print(f'rewards: {sum(rewards)}')\n",
        "print(f'action history: {env.action_history}')"
      ]
    },
    {
      "cell_type": "code",
      "execution_count": 15,
      "metadata": {
        "id": "bdc2VpjA71Kw"
      },
      "outputs": [],
      "source": [
        "env = CliffBoxGridWorld()\n",
        "agent = RLAgent(env, num_episodes=1000)\n",
        "rewards = agent.learn()"
      ]
    },
    {
      "cell_type": "code",
      "execution_count": 16,
      "metadata": {
        "id": "tvpBDvNHGIdt",
        "colab": {
          "base_uri": "https://localhost:8080/",
          "height": 447
        },
        "outputId": "4a3d6a59-b203-4542-cefd-f9e949c21a44"
      },
      "outputs": [
        {
          "output_type": "execute_result",
          "data": {
            "text/plain": [
              "[<matplotlib.lines.Line2D at 0x7cee7ed88700>]"
            ]
          },
          "metadata": {},
          "execution_count": 16
        },
        {
          "output_type": "display_data",
          "data": {
            "text/plain": [
              "<Figure size 640x480 with 1 Axes>"
            ],
            "image/png": "[encoded data removed]"
          },
          "metadata": {}
        }
      ],
      "source": [
        "# Smooth plot\n",
        "weight=0.99\n",
        "last = rewards[0]\n",
        "smoothed = []\n",
        "for v in rewards:\n",
        "    smoothed_val = last * weight + (1 - weight) * v\n",
        "    smoothed.append(smoothed_val)\n",
        "    last = smoothed_val\n",
        "\n",
        "# Plot the learning curve\n",
        "plt.plot(smoothed)"
      ]
    },
    {
      "cell_type": "markdown",
      "metadata": {
        "id": "5dl7JgziZROA"
      },
      "source": [
        "You need to complete the following method to visualize your training results."
      ]
    },
    {
      "cell_type": "code",
      "execution_count": 17,
      "metadata": {
        "id": "KiSqtBuL73Rf"
      },
      "outputs": [],
      "source": [
        "def visualize(q_table):\n",
        "    pass\n",
        "    # TODO: Visualize learned V-table and policy.\n",
        "    # for ... in q_table.items():\n",
        "    #     v_table[key[0]].append(np.mean(list(value.values())))\n",
        "    #     policy[key[0]].append(actions[np.argmax([value[i] for i in range(1, 5)])])\n",
        "\n",
        "visualize(agent.q_table)"
      ]
    }
  ],
  "metadata": {
    "colab": {
      "provenance": [],
      "gpuType": "T4",
      "include_colab_link": true
    },
    "kernelspec": {
      "display_name": "Python 3",
      "name": "python3"
    },
    "language_info": {
      "codemirror_mode": {
        "name": "ipython",
        "version": 3
      },
      "file_extension": ".py",
      "mimetype": "text/x-python",
      "name": "python",
      "nbconvert_exporter": "python",
      "pygments_lexer": "ipython3",
      "version": "3.8.16 (default, Jan 17 2023, 16:39:35) \n[Clang 14.0.6 ]"
    },
    "vscode": {
      "interpreter": {
        "hash": "2372fb78870ca5ddfbb77edbd31465c7991d171e5767f3094f475408094f996f"
      }
    },
    "accelerator": "GPU"
  },
  "nbformat": 4,
  "nbformat_minor": 0
}